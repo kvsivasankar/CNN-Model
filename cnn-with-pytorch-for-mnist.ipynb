{
 "cells": [
  {
   "cell_type": "markdown",
   "metadata": {
    "_cell_guid": "b1076dfc-b9ad-4769-8c92-a6c4dae69d19",
    "_uuid": "8f2839f25d086af736a60e9eeb907d3b93b6e0e5"
   },
   "source": [
    "# CNN on mnist data\n",
    " "
   ]
  },
  {
   "cell_type": "code",
   "execution_count": 1,
   "metadata": {
    "_uuid": "46ade2a1807aadd90e577c496d77d3df507dad88"
   },
   "outputs": [],
   "source": [
    "import numpy as np # to handle matrix and data operation\n",
    "import pandas as pd # to read csv and handle dataframe\n",
    "\n",
    "import torch\n",
    "import torch.nn as nn\n",
    "import torch.nn.functional as F\n",
    "import torch.utils.data\n",
    "from torch.autograd import Variable\n",
    "\n",
    "from sklearn.model_selection import train_test_split"
   ]
  },
  {
   "cell_type": "code",
   "execution_count": 2,
   "metadata": {
    "_uuid": "a87c9de979fb54874e3a047d40cc024a8b0f5e98"
   },
   "outputs": [
    {
     "name": "stdout",
     "output_type": "stream",
     "text": [
      "(60000, 785)\n"
     ]
    }
   ],
   "source": [
    "df = pd.read_csv('mnist_train.csv')\n",
    "print(df.shape)"
   ]
  },
  {
   "cell_type": "code",
   "execution_count": 3,
   "metadata": {
    "_uuid": "0b3d551a62defaadd37e681511ebc5fc70ac944d"
   },
   "outputs": [],
   "source": [
    "y = df['label'].values\n",
    "X = df.drop(['label'],1).values\n",
    "\n",
    "\n",
    "X_train, X_test, y_train, y_test = train_test_split(X, y, test_size=0.15)"
   ]
  },
  {
   "cell_type": "code",
   "execution_count": 4,
   "metadata": {
    "_uuid": "e76dc80a7695aec80f78fa1f62d84bb0ed0efd92"
   },
   "outputs": [
    {
     "name": "stdout",
     "output_type": "stream",
     "text": [
      "(9000,)\n"
     ]
    }
   ],
   "source": [
    "print(y_test.shape)"
   ]
  },
  {
   "cell_type": "code",
   "execution_count": 5,
   "metadata": {
    "_uuid": "96f0d5dbc90457eb091fb2e6ed68ce7c7bf6da0b"
   },
   "outputs": [],
   "source": [
    "BATCH_SIZE = 32\n",
    "\n",
    "torch_X_train = torch.from_numpy(X_train).type(torch.LongTensor)\n",
    "torch_y_train = torch.from_numpy(y_train).type(torch.LongTensor) # data type is long\n",
    "\n",
    "# create feature and targets tensor for test set.\n",
    "torch_X_test = torch.from_numpy(X_test).type(torch.LongTensor)\n",
    "torch_y_test = torch.from_numpy(y_test).type(torch.LongTensor) # data type is long\n",
    "\n",
    "# Pytorch train and test sets\n",
    "train = torch.utils.data.TensorDataset(torch_X_train,torch_y_train)\n",
    "test = torch.utils.data.TensorDataset(torch_X_test,torch_y_test)\n",
    "\n",
    "# data loader\n",
    "train_loader = torch.utils.data.DataLoader(train, batch_size = BATCH_SIZE, shuffle = False)\n",
    "test_loader = torch.utils.data.DataLoader(test, batch_size = BATCH_SIZE, shuffle = False)\n"
   ]
  },
  {
   "cell_type": "code",
   "execution_count": 6,
   "metadata": {
    "_uuid": "3624b779d746e6b5710711c7b1798363ecabafbb"
   },
   "outputs": [
    {
     "name": "stdout",
     "output_type": "stream",
     "text": [
      "MLP(\n",
      "  (linear1): Linear(in_features=784, out_features=250, bias=True)\n",
      "  (linear2): Linear(in_features=250, out_features=100, bias=True)\n",
      "  (linear3): Linear(in_features=100, out_features=10, bias=True)\n",
      ")\n"
     ]
    }
   ],
   "source": [
    "class MLP(nn.Module):\n",
    "    def __init__(self):\n",
    "        super(MLP, self).__init__()\n",
    "        self.linear1 = nn.Linear(784,250)\n",
    "        self.linear2 = nn.Linear(250,100)\n",
    "        self.linear3 = nn.Linear(100,10)\n",
    "    \n",
    "    def forward(self,X):\n",
    "        X = F.relu(self.linear1(X))\n",
    "        X = F.relu(self.linear2(X))\n",
    "        X = self.linear3(X)\n",
    "        return F.log_softmax(X, dim=1)\n",
    " \n",
    "mlp = MLP()\n",
    "print(mlp)\n"
   ]
  },
  {
   "cell_type": "markdown",
   "metadata": {
    "_uuid": "6c2c74a49c925222b6aaec5e29007a302d2fae44"
   },
   "source": [
    "We have 784\\*(250+1) + 250\\*(100+1) + 100\\*(10+1) = 222 360 parameters to train"
   ]
  },
  {
   "cell_type": "code",
   "execution_count": 9,
   "metadata": {
    "_uuid": "e471e447a9618edc7310bb15941054c30ea235a4"
   },
   "outputs": [],
   "source": [
    "def fit(model, train_loader):\n",
    "    optimizer = torch.optim.Adam(model.parameters())#,lr=0.001, betas=(0.9,0.999))\n",
    "    error = nn.CrossEntropyLoss()\n",
    "    EPOCHS = 5\n",
    "    model.train()\n",
    "    for epoch in range(EPOCHS):\n",
    "        correct = 0\n",
    "        for batch_idx, (X_batch, y_batch) in enumerate(train_loader):\n",
    "            var_X_batch = Variable(X_batch).float()\n",
    "            var_y_batch = Variable(y_batch)\n",
    "            optimizer.zero_grad()\n",
    "            output = model(var_X_batch)\n",
    "            loss = error(output, var_y_batch)\n",
    "            loss.backward()\n",
    "            optimizer.step()\n",
    "\n",
    "            # Total correct predictions\n",
    "            predicted = torch.max(output.data, 1)[1] \n",
    "            correct += (predicted == var_y_batch).sum()\n",
    "            #print(correct)\n",
    "            if batch_idx % 50 == 0:\n",
    "                print('Epoch : {} [{}/{} ({:.0f}%)]\\tLoss: {:.6f}\\t Accuracy:{:.3f}%'.format(\n",
    "                    epoch, batch_idx*len(X_batch), len(train_loader.dataset), 100.*batch_idx / len(train_loader), loss.data, float(correct*100) / float(BATCH_SIZE*(batch_idx+1))))\n",
    "                "
   ]
  },
  {
   "cell_type": "code",
   "execution_count": 10,
   "metadata": {
    "_uuid": "766f99fea9d2295443131e64e9bda28e1ea1efe5"
   },
   "outputs": [
    {
     "name": "stdout",
     "output_type": "stream",
     "text": [
      "Epoch : 0 [0/51000 (0%)]\tLoss: 7.191383\t Accuracy:15.625%\n",
      "Epoch : 0 [1600/51000 (3%)]\tLoss: 0.602311\t Accuracy:69.363%\n",
      "Epoch : 0 [3200/51000 (6%)]\tLoss: 0.100533\t Accuracy:77.104%\n",
      "Epoch : 0 [4800/51000 (9%)]\tLoss: 0.434235\t Accuracy:81.002%\n",
      "Epoch : 0 [6400/51000 (13%)]\tLoss: 0.410084\t Accuracy:83.085%\n",
      "Epoch : 0 [8000/51000 (16%)]\tLoss: 0.328846\t Accuracy:84.250%\n",
      "Epoch : 0 [9600/51000 (19%)]\tLoss: 0.244209\t Accuracy:85.185%\n",
      "Epoch : 0 [11200/51000 (22%)]\tLoss: 0.168041\t Accuracy:85.942%\n",
      "Epoch : 0 [12800/51000 (25%)]\tLoss: 0.482129\t Accuracy:86.518%\n",
      "Epoch : 0 [14400/51000 (28%)]\tLoss: 0.165036\t Accuracy:87.070%\n",
      "Epoch : 0 [16000/51000 (31%)]\tLoss: 0.051867\t Accuracy:87.681%\n",
      "Epoch : 0 [17600/51000 (35%)]\tLoss: 0.134861\t Accuracy:88.005%\n",
      "Epoch : 0 [19200/51000 (38%)]\tLoss: 0.220978\t Accuracy:88.384%\n",
      "Epoch : 0 [20800/51000 (41%)]\tLoss: 0.359432\t Accuracy:88.642%\n",
      "Epoch : 0 [22400/51000 (44%)]\tLoss: 0.112294\t Accuracy:88.949%\n",
      "Epoch : 0 [24000/51000 (47%)]\tLoss: 0.116700\t Accuracy:89.148%\n",
      "Epoch : 0 [25600/51000 (50%)]\tLoss: 0.384604\t Accuracy:89.380%\n",
      "Epoch : 0 [27200/51000 (53%)]\tLoss: 0.151406\t Accuracy:89.656%\n",
      "Epoch : 0 [28800/51000 (56%)]\tLoss: 0.304961\t Accuracy:89.800%\n",
      "Epoch : 0 [30400/51000 (60%)]\tLoss: 0.183861\t Accuracy:89.965%\n",
      "Epoch : 0 [32000/51000 (63%)]\tLoss: 0.176603\t Accuracy:90.125%\n",
      "Epoch : 0 [33600/51000 (66%)]\tLoss: 0.590505\t Accuracy:90.301%\n",
      "Epoch : 0 [35200/51000 (69%)]\tLoss: 0.402100\t Accuracy:90.443%\n",
      "Epoch : 0 [36800/51000 (72%)]\tLoss: 0.140188\t Accuracy:90.603%\n",
      "Epoch : 0 [38400/51000 (75%)]\tLoss: 0.330736\t Accuracy:90.760%\n",
      "Epoch : 0 [40000/51000 (78%)]\tLoss: 0.277591\t Accuracy:90.900%\n",
      "Epoch : 0 [41600/51000 (82%)]\tLoss: 0.100375\t Accuracy:91.026%\n",
      "Epoch : 0 [43200/51000 (85%)]\tLoss: 0.172947\t Accuracy:91.148%\n",
      "Epoch : 0 [44800/51000 (88%)]\tLoss: 0.009307\t Accuracy:91.250%\n",
      "Epoch : 0 [46400/51000 (91%)]\tLoss: 0.465692\t Accuracy:91.331%\n",
      "Epoch : 0 [48000/51000 (94%)]\tLoss: 0.104062\t Accuracy:91.437%\n",
      "Epoch : 0 [49600/51000 (97%)]\tLoss: 0.164040\t Accuracy:91.534%\n",
      "Epoch : 1 [0/51000 (0%)]\tLoss: 0.200579\t Accuracy:96.875%\n",
      "Epoch : 1 [1600/51000 (3%)]\tLoss: 0.061233\t Accuracy:94.730%\n",
      "Epoch : 1 [3200/51000 (6%)]\tLoss: 0.095574\t Accuracy:94.802%\n",
      "Epoch : 1 [4800/51000 (9%)]\tLoss: 0.171294\t Accuracy:94.826%\n",
      "Epoch : 1 [6400/51000 (13%)]\tLoss: 0.243544\t Accuracy:95.134%\n",
      "Epoch : 1 [8000/51000 (16%)]\tLoss: 0.046201\t Accuracy:95.269%\n",
      "Epoch : 1 [9600/51000 (19%)]\tLoss: 0.244485\t Accuracy:95.079%\n",
      "Epoch : 1 [11200/51000 (22%)]\tLoss: 0.078045\t Accuracy:94.996%\n",
      "Epoch : 1 [12800/51000 (25%)]\tLoss: 0.081806\t Accuracy:95.036%\n",
      "Epoch : 1 [14400/51000 (28%)]\tLoss: 0.063590\t Accuracy:94.942%\n",
      "Epoch : 1 [16000/51000 (31%)]\tLoss: 0.048286\t Accuracy:94.941%\n",
      "Epoch : 1 [17600/51000 (35%)]\tLoss: 0.114697\t Accuracy:95.003%\n",
      "Epoch : 1 [19200/51000 (38%)]\tLoss: 0.133396\t Accuracy:95.024%\n",
      "Epoch : 1 [20800/51000 (41%)]\tLoss: 0.253002\t Accuracy:95.046%\n",
      "Epoch : 1 [22400/51000 (44%)]\tLoss: 0.062130\t Accuracy:95.136%\n",
      "Epoch : 1 [24000/51000 (47%)]\tLoss: 0.077320\t Accuracy:95.090%\n",
      "Epoch : 1 [25600/51000 (50%)]\tLoss: 0.358389\t Accuracy:95.135%\n",
      "Epoch : 1 [27200/51000 (53%)]\tLoss: 0.037194\t Accuracy:95.167%\n",
      "Epoch : 1 [28800/51000 (56%)]\tLoss: 0.254882\t Accuracy:95.162%\n",
      "Epoch : 1 [30400/51000 (60%)]\tLoss: 0.040880\t Accuracy:95.160%\n",
      "Epoch : 1 [32000/51000 (63%)]\tLoss: 0.124063\t Accuracy:95.139%\n",
      "Epoch : 1 [33600/51000 (66%)]\tLoss: 0.198792\t Accuracy:95.189%\n",
      "Epoch : 1 [35200/51000 (69%)]\tLoss: 0.159491\t Accuracy:95.206%\n",
      "Epoch : 1 [36800/51000 (72%)]\tLoss: 0.089757\t Accuracy:95.211%\n",
      "Epoch : 1 [38400/51000 (75%)]\tLoss: 0.301221\t Accuracy:95.233%\n",
      "Epoch : 1 [40000/51000 (78%)]\tLoss: 0.137304\t Accuracy:95.244%\n",
      "Epoch : 1 [41600/51000 (82%)]\tLoss: 0.103234\t Accuracy:95.261%\n",
      "Epoch : 1 [43200/51000 (85%)]\tLoss: 0.033176\t Accuracy:95.288%\n",
      "Epoch : 1 [44800/51000 (88%)]\tLoss: 0.110478\t Accuracy:95.325%\n",
      "Epoch : 1 [46400/51000 (91%)]\tLoss: 0.175469\t Accuracy:95.361%\n",
      "Epoch : 1 [48000/51000 (94%)]\tLoss: 0.128614\t Accuracy:95.386%\n",
      "Epoch : 1 [49600/51000 (97%)]\tLoss: 0.097912\t Accuracy:95.392%\n",
      "Epoch : 2 [0/51000 (0%)]\tLoss: 0.050912\t Accuracy:96.875%\n",
      "Epoch : 2 [1600/51000 (3%)]\tLoss: 0.032002\t Accuracy:95.895%\n",
      "Epoch : 2 [3200/51000 (6%)]\tLoss: 0.115499\t Accuracy:95.792%\n",
      "Epoch : 2 [4800/51000 (9%)]\tLoss: 0.114920\t Accuracy:95.820%\n",
      "Epoch : 2 [6400/51000 (13%)]\tLoss: 0.269750\t Accuracy:95.771%\n",
      "Epoch : 2 [8000/51000 (16%)]\tLoss: 0.128023\t Accuracy:95.991%\n",
      "Epoch : 2 [9600/51000 (19%)]\tLoss: 0.149506\t Accuracy:95.951%\n",
      "Epoch : 2 [11200/51000 (22%)]\tLoss: 0.086695\t Accuracy:95.922%\n",
      "Epoch : 2 [12800/51000 (25%)]\tLoss: 0.368989\t Accuracy:95.877%\n",
      "Epoch : 2 [14400/51000 (28%)]\tLoss: 0.065576\t Accuracy:95.891%\n",
      "Epoch : 2 [16000/51000 (31%)]\tLoss: 0.045845\t Accuracy:95.877%\n",
      "Epoch : 2 [17600/51000 (35%)]\tLoss: 0.114578\t Accuracy:95.871%\n",
      "Epoch : 2 [19200/51000 (38%)]\tLoss: 0.095947\t Accuracy:95.955%\n",
      "Epoch : 2 [20800/51000 (41%)]\tLoss: 0.223027\t Accuracy:96.045%\n",
      "Epoch : 2 [22400/51000 (44%)]\tLoss: 0.486674\t Accuracy:96.108%\n",
      "Epoch : 2 [24000/51000 (47%)]\tLoss: 0.091703\t Accuracy:96.084%\n",
      "Epoch : 2 [25600/51000 (50%)]\tLoss: 0.134859\t Accuracy:96.095%\n",
      "Epoch : 2 [27200/51000 (53%)]\tLoss: 0.031706\t Accuracy:96.030%\n",
      "Epoch : 2 [28800/51000 (56%)]\tLoss: 0.318881\t Accuracy:96.032%\n",
      "Epoch : 2 [30400/51000 (60%)]\tLoss: 0.308398\t Accuracy:96.004%\n",
      "Epoch : 2 [32000/51000 (63%)]\tLoss: 0.532938\t Accuracy:95.982%\n",
      "Epoch : 2 [33600/51000 (66%)]\tLoss: 0.389127\t Accuracy:96.025%\n",
      "Epoch : 2 [35200/51000 (69%)]\tLoss: 0.323697\t Accuracy:95.984%\n",
      "Epoch : 2 [36800/51000 (72%)]\tLoss: 0.055190\t Accuracy:95.982%\n",
      "Epoch : 2 [38400/51000 (75%)]\tLoss: 0.509309\t Accuracy:96.001%\n",
      "Epoch : 2 [40000/51000 (78%)]\tLoss: 0.114052\t Accuracy:95.993%\n",
      "Epoch : 2 [41600/51000 (82%)]\tLoss: 0.022152\t Accuracy:96.020%\n",
      "Epoch : 2 [43200/51000 (85%)]\tLoss: 0.044331\t Accuracy:96.040%\n",
      "Epoch : 2 [44800/51000 (88%)]\tLoss: 0.067821\t Accuracy:96.045%\n",
      "Epoch : 2 [46400/51000 (91%)]\tLoss: 0.451550\t Accuracy:96.020%\n",
      "Epoch : 2 [48000/51000 (94%)]\tLoss: 0.131460\t Accuracy:96.051%\n",
      "Epoch : 2 [49600/51000 (97%)]\tLoss: 0.030544\t Accuracy:96.057%\n",
      "Epoch : 3 [0/51000 (0%)]\tLoss: 0.203319\t Accuracy:90.625%\n",
      "Epoch : 3 [1600/51000 (3%)]\tLoss: 0.093769\t Accuracy:95.833%\n",
      "Epoch : 3 [3200/51000 (6%)]\tLoss: 0.033563\t Accuracy:96.009%\n",
      "Epoch : 3 [4800/51000 (9%)]\tLoss: 0.187102\t Accuracy:96.089%\n",
      "Epoch : 3 [6400/51000 (13%)]\tLoss: 0.158717\t Accuracy:96.284%\n",
      "Epoch : 3 [8000/51000 (16%)]\tLoss: 0.016073\t Accuracy:96.414%\n",
      "Epoch : 3 [9600/51000 (19%)]\tLoss: 0.045594\t Accuracy:96.387%\n",
      "Epoch : 3 [11200/51000 (22%)]\tLoss: 0.017230\t Accuracy:96.412%\n",
      "Epoch : 3 [12800/51000 (25%)]\tLoss: 0.135395\t Accuracy:96.236%\n",
      "Epoch : 3 [14400/51000 (28%)]\tLoss: 0.097096\t Accuracy:96.203%\n",
      "Epoch : 3 [16000/51000 (31%)]\tLoss: 0.035767\t Accuracy:96.289%\n",
      "Epoch : 3 [17600/51000 (35%)]\tLoss: 0.126350\t Accuracy:96.268%\n",
      "Epoch : 3 [19200/51000 (38%)]\tLoss: 0.117887\t Accuracy:96.272%\n",
      "Epoch : 3 [20800/51000 (41%)]\tLoss: 0.081114\t Accuracy:96.299%\n",
      "Epoch : 3 [22400/51000 (44%)]\tLoss: 0.016399\t Accuracy:96.327%\n",
      "Epoch : 3 [24000/51000 (47%)]\tLoss: 0.009825\t Accuracy:96.367%\n",
      "Epoch : 3 [25600/51000 (50%)]\tLoss: 0.160746\t Accuracy:96.426%\n",
      "Epoch : 3 [27200/51000 (53%)]\tLoss: 0.096243\t Accuracy:96.456%\n",
      "Epoch : 3 [28800/51000 (56%)]\tLoss: 0.368439\t Accuracy:96.473%\n",
      "Epoch : 3 [30400/51000 (60%)]\tLoss: 0.086741\t Accuracy:96.494%\n",
      "Epoch : 3 [32000/51000 (63%)]\tLoss: 0.085023\t Accuracy:96.466%\n",
      "Epoch : 3 [33600/51000 (66%)]\tLoss: 0.440158\t Accuracy:96.465%\n",
      "Epoch : 3 [35200/51000 (69%)]\tLoss: 0.164780\t Accuracy:96.455%\n",
      "Epoch : 3 [36800/51000 (72%)]\tLoss: 0.097015\t Accuracy:96.454%\n",
      "Epoch : 3 [38400/51000 (75%)]\tLoss: 0.315272\t Accuracy:96.464%\n",
      "Epoch : 3 [40000/51000 (78%)]\tLoss: 0.016041\t Accuracy:96.480%\n",
      "Epoch : 3 [41600/51000 (82%)]\tLoss: 0.020902\t Accuracy:96.476%\n",
      "Epoch : 3 [43200/51000 (85%)]\tLoss: 0.025317\t Accuracy:96.479%\n",
      "Epoch : 3 [44800/51000 (88%)]\tLoss: 0.060025\t Accuracy:96.496%\n",
      "Epoch : 3 [46400/51000 (91%)]\tLoss: 0.239680\t Accuracy:96.489%\n",
      "Epoch : 3 [48000/51000 (94%)]\tLoss: 0.101927\t Accuracy:96.494%\n",
      "Epoch : 3 [49600/51000 (97%)]\tLoss: 0.059621\t Accuracy:96.496%\n",
      "Epoch : 4 [0/51000 (0%)]\tLoss: 0.037549\t Accuracy:96.875%\n",
      "Epoch : 4 [1600/51000 (3%)]\tLoss: 0.113682\t Accuracy:96.998%\n",
      "Epoch : 4 [3200/51000 (6%)]\tLoss: 0.075971\t Accuracy:96.720%\n",
      "Epoch : 4 [4800/51000 (9%)]\tLoss: 0.043163\t Accuracy:96.792%\n",
      "Epoch : 4 [6400/51000 (13%)]\tLoss: 0.092041\t Accuracy:97.124%\n"
     ]
    },
    {
     "name": "stdout",
     "output_type": "stream",
     "text": [
      "Epoch : 4 [8000/51000 (16%)]\tLoss: 0.003297\t Accuracy:97.087%\n",
      "Epoch : 4 [9600/51000 (19%)]\tLoss: 0.063884\t Accuracy:97.041%\n",
      "Epoch : 4 [11200/51000 (22%)]\tLoss: 0.103690\t Accuracy:97.053%\n",
      "Epoch : 4 [12800/51000 (25%)]\tLoss: 0.003757\t Accuracy:97.054%\n",
      "Epoch : 4 [14400/51000 (28%)]\tLoss: 0.063418\t Accuracy:96.882%\n",
      "Epoch : 4 [16000/51000 (31%)]\tLoss: 0.163261\t Accuracy:96.838%\n",
      "Epoch : 4 [17600/51000 (35%)]\tLoss: 0.087939\t Accuracy:96.835%\n",
      "Epoch : 4 [19200/51000 (38%)]\tLoss: 0.164431\t Accuracy:96.875%\n",
      "Epoch : 4 [20800/51000 (41%)]\tLoss: 0.082651\t Accuracy:96.913%\n",
      "Epoch : 4 [22400/51000 (44%)]\tLoss: 0.040517\t Accuracy:96.964%\n",
      "Epoch : 4 [24000/51000 (47%)]\tLoss: 0.093792\t Accuracy:96.925%\n",
      "Epoch : 4 [25600/51000 (50%)]\tLoss: 0.107988\t Accuracy:96.918%\n",
      "Epoch : 4 [27200/51000 (53%)]\tLoss: 0.004354\t Accuracy:96.937%\n",
      "Epoch : 4 [28800/51000 (56%)]\tLoss: 0.258705\t Accuracy:96.934%\n",
      "Epoch : 4 [30400/51000 (60%)]\tLoss: 0.013762\t Accuracy:96.964%\n",
      "Epoch : 4 [32000/51000 (63%)]\tLoss: 0.157610\t Accuracy:96.947%\n",
      "Epoch : 4 [33600/51000 (66%)]\tLoss: 0.377120\t Accuracy:96.949%\n",
      "Epoch : 4 [35200/51000 (69%)]\tLoss: 0.199259\t Accuracy:96.957%\n",
      "Epoch : 4 [36800/51000 (72%)]\tLoss: 0.032289\t Accuracy:96.959%\n",
      "Epoch : 4 [38400/51000 (75%)]\tLoss: 0.412672\t Accuracy:96.963%\n",
      "Epoch : 4 [40000/51000 (78%)]\tLoss: 0.020038\t Accuracy:96.955%\n",
      "Epoch : 4 [41600/51000 (82%)]\tLoss: 0.073876\t Accuracy:96.930%\n",
      "Epoch : 4 [43200/51000 (85%)]\tLoss: 0.078318\t Accuracy:96.926%\n",
      "Epoch : 4 [44800/51000 (88%)]\tLoss: 0.252116\t Accuracy:96.911%\n",
      "Epoch : 4 [46400/51000 (91%)]\tLoss: 0.163778\t Accuracy:96.886%\n",
      "Epoch : 4 [48000/51000 (94%)]\tLoss: 0.089022\t Accuracy:96.887%\n",
      "Epoch : 4 [49600/51000 (97%)]\tLoss: 0.006319\t Accuracy:96.887%\n"
     ]
    }
   ],
   "source": [
    "fit(mlp, train_loader)"
   ]
  },
  {
   "cell_type": "markdown",
   "metadata": {
    "_uuid": "777eb068065662bea355507597b158eb8713b7f2"
   },
   "source": [
    "## MLP Evaluation"
   ]
  },
  {
   "cell_type": "code",
   "execution_count": 11,
   "metadata": {
    "_uuid": "a3aca2215610465fcccc58f1b98fc1d56096f364"
   },
   "outputs": [
    {
     "name": "stdout",
     "output_type": "stream",
     "text": [
      "Test accuracy:0.957% \n"
     ]
    }
   ],
   "source": [
    "def evaluate(model):\n",
    "#model = mlp\n",
    "    correct = 0 \n",
    "    for test_imgs, test_labels in test_loader:\n",
    "        #print(test_imgs.shape)\n",
    "        test_imgs = Variable(test_imgs).float()\n",
    "        output = model(test_imgs)\n",
    "        predicted = torch.max(output,1)[1]\n",
    "        correct += (predicted == test_labels).sum()\n",
    "    print(\"Test accuracy:{:.3f}% \".format( float(correct) / (len(test_loader)*BATCH_SIZE)))\n",
    "evaluate(mlp)"
   ]
  },
  {
   "cell_type": "markdown",
   "metadata": {
    "_uuid": "810c7b5869b3c704d5a5a7e28289133c27c5790c"
   },
   "source": [
    "<center><h2>Convolutional Neural Network</h2></center>"
   ]
  },
  {
   "cell_type": "markdown",
   "metadata": {
    "_uuid": "9baaa52b6b9b6b8f8287a10fcc801606848fb726"
   },
   "source": [
    "## Data loader\n",
    "\n",
    "Since a CNN needs a image shape as input let's reshape our flatten images to real image"
   ]
  },
  {
   "cell_type": "code",
   "execution_count": 12,
   "metadata": {
    "_uuid": "5e84347012cd6abc2f6f46299aab08b0c89563ee"
   },
   "outputs": [
    {
     "name": "stdout",
     "output_type": "stream",
     "text": [
      "torch.Size([51000, 1, 28, 28])\n",
      "torch.Size([9000, 1, 28, 28])\n"
     ]
    }
   ],
   "source": [
    "torch_X_train = torch_X_train.view(-1, 1,28,28).float()\n",
    "torch_X_test = torch_X_test.view(-1,1,28,28).float()\n",
    "print(torch_X_train.shape)\n",
    "print(torch_X_test.shape)\n",
    "\n",
    "# Pytorch train and test sets\n",
    "train = torch.utils.data.TensorDataset(torch_X_train,torch_y_train)\n",
    "test = torch.utils.data.TensorDataset(torch_X_test,torch_y_test)\n",
    "\n",
    "# data loader\n",
    "train_loader = torch.utils.data.DataLoader(train, batch_size = BATCH_SIZE, shuffle = False)\n",
    "test_loader = torch.utils.data.DataLoader(test, batch_size = BATCH_SIZE, shuffle = False)\n"
   ]
  },
  {
   "cell_type": "code",
   "execution_count": 13,
   "metadata": {
    "_uuid": "c669e5f557724154d9f4f5f8b5d0d6c9b676d551"
   },
   "outputs": [
    {
     "name": "stdout",
     "output_type": "stream",
     "text": [
      "CNN(\n",
      "  (conv1): Conv2d(1, 32, kernel_size=(5, 5), stride=(1, 1))\n",
      "  (conv2): Conv2d(32, 32, kernel_size=(5, 5), stride=(1, 1))\n",
      "  (conv3): Conv2d(32, 64, kernel_size=(5, 5), stride=(1, 1))\n",
      "  (fc1): Linear(in_features=576, out_features=256, bias=True)\n",
      "  (fc2): Linear(in_features=256, out_features=10, bias=True)\n",
      ")\n",
      "torch.Size([32, 10])\n"
     ]
    }
   ],
   "source": [
    "class CNN(nn.Module):\n",
    "    def __init__(self):\n",
    "        super(CNN, self).__init__()\n",
    "        self.conv1 = nn.Conv2d(1, 32, kernel_size=5)\n",
    "        self.conv2 = nn.Conv2d(32, 32, kernel_size=5)\n",
    "        self.conv3 = nn.Conv2d(32,64, kernel_size=5)\n",
    "        self.fc1 = nn.Linear(3*3*64, 256)\n",
    "        self.fc2 = nn.Linear(256, 10)\n",
    "\n",
    "    def forward(self, x):\n",
    "        x = F.relu(self.conv1(x))\n",
    "        #x = F.dropout(x, p=0.5, training=self.training)\n",
    "        x = F.relu(F.max_pool2d(self.conv2(x), 2))\n",
    "        x = F.dropout(x, p=0.5, training=self.training)\n",
    "        x = F.relu(F.max_pool2d(self.conv3(x),2))\n",
    "        x = F.dropout(x, p=0.5, training=self.training)\n",
    "        x = x.view(-1,3*3*64 )\n",
    "        x = F.relu(self.fc1(x))\n",
    "        x = F.dropout(x, training=self.training)\n",
    "        x = self.fc2(x)\n",
    "        return F.log_softmax(x, dim=1)\n",
    " \n",
    "cnn = CNN()\n",
    "print(cnn)\n",
    "\n",
    "it = iter(train_loader)\n",
    "X_batch, y_batch = next(it)\n",
    "print(cnn.forward(X_batch).shape)"
   ]
  },
  {
   "cell_type": "code",
   "execution_count": 14,
   "metadata": {
    "_uuid": "797cbe3cff05d8bdb42f3273a06839b18daf5266"
   },
   "outputs": [
    {
     "name": "stdout",
     "output_type": "stream",
     "text": [
      "Epoch : 0 [0/51000 (0%)]\tLoss: 14.271686\t Accuracy:18.750%\n",
      "Epoch : 0 [1600/51000 (3%)]\tLoss: 1.520592\t Accuracy:20.772%\n",
      "Epoch : 0 [3200/51000 (6%)]\tLoss: 1.020106\t Accuracy:38.150%\n",
      "Epoch : 0 [4800/51000 (9%)]\tLoss: 1.206845\t Accuracy:48.758%\n",
      "Epoch : 0 [6400/51000 (13%)]\tLoss: 0.656476\t Accuracy:55.706%\n",
      "Epoch : 0 [8000/51000 (16%)]\tLoss: 0.365748\t Accuracy:60.857%\n",
      "Epoch : 0 [9600/51000 (19%)]\tLoss: 0.429424\t Accuracy:64.327%\n",
      "Epoch : 0 [11200/51000 (22%)]\tLoss: 0.286801\t Accuracy:67.112%\n",
      "Epoch : 0 [12800/51000 (25%)]\tLoss: 0.710829\t Accuracy:69.288%\n",
      "Epoch : 0 [14400/51000 (28%)]\tLoss: 0.381004\t Accuracy:70.877%\n",
      "Epoch : 0 [16000/51000 (31%)]\tLoss: 0.533938\t Accuracy:72.443%\n",
      "Epoch : 0 [17600/51000 (35%)]\tLoss: 0.427061\t Accuracy:73.769%\n",
      "Epoch : 0 [19200/51000 (38%)]\tLoss: 0.329710\t Accuracy:75.005%\n",
      "Epoch : 0 [20800/51000 (41%)]\tLoss: 0.166885\t Accuracy:76.123%\n",
      "Epoch : 0 [22400/51000 (44%)]\tLoss: 0.526415\t Accuracy:77.046%\n",
      "Epoch : 0 [24000/51000 (47%)]\tLoss: 0.174274\t Accuracy:77.917%\n",
      "Epoch : 0 [25600/51000 (50%)]\tLoss: 0.408432\t Accuracy:78.644%\n",
      "Epoch : 0 [27200/51000 (53%)]\tLoss: 0.604460\t Accuracy:79.267%\n",
      "Epoch : 0 [28800/51000 (56%)]\tLoss: 0.232349\t Accuracy:79.877%\n",
      "Epoch : 0 [30400/51000 (60%)]\tLoss: 0.534450\t Accuracy:80.369%\n",
      "Epoch : 0 [32000/51000 (63%)]\tLoss: 0.438740\t Accuracy:80.875%\n",
      "Epoch : 0 [33600/51000 (66%)]\tLoss: 0.421205\t Accuracy:81.324%\n",
      "Epoch : 0 [35200/51000 (69%)]\tLoss: 0.424450\t Accuracy:81.767%\n",
      "Epoch : 0 [36800/51000 (72%)]\tLoss: 0.161202\t Accuracy:82.170%\n",
      "Epoch : 0 [38400/51000 (75%)]\tLoss: 0.323556\t Accuracy:82.569%\n",
      "Epoch : 0 [40000/51000 (78%)]\tLoss: 0.360678\t Accuracy:82.996%\n",
      "Epoch : 0 [41600/51000 (82%)]\tLoss: 0.355643\t Accuracy:83.349%\n",
      "Epoch : 0 [43200/51000 (85%)]\tLoss: 0.203014\t Accuracy:83.663%\n",
      "Epoch : 0 [44800/51000 (88%)]\tLoss: 0.151043\t Accuracy:83.947%\n",
      "Epoch : 0 [46400/51000 (91%)]\tLoss: 0.276706\t Accuracy:84.226%\n",
      "Epoch : 0 [48000/51000 (94%)]\tLoss: 0.240113\t Accuracy:84.521%\n",
      "Epoch : 0 [49600/51000 (97%)]\tLoss: 0.281726\t Accuracy:84.786%\n",
      "Epoch : 1 [0/51000 (0%)]\tLoss: 0.053352\t Accuracy:100.000%\n",
      "Epoch : 1 [1600/51000 (3%)]\tLoss: 0.141091\t Accuracy:92.586%\n",
      "Epoch : 1 [3200/51000 (6%)]\tLoss: 0.257050\t Accuracy:92.729%\n",
      "Epoch : 1 [4800/51000 (9%)]\tLoss: 0.303091\t Accuracy:93.129%\n",
      "Epoch : 1 [6400/51000 (13%)]\tLoss: 0.172956\t Accuracy:93.081%\n",
      "Epoch : 1 [8000/51000 (16%)]\tLoss: 0.144345\t Accuracy:93.190%\n",
      "Epoch : 1 [9600/51000 (19%)]\tLoss: 0.345999\t Accuracy:93.002%\n",
      "Epoch : 1 [11200/51000 (22%)]\tLoss: 0.159153\t Accuracy:93.020%\n",
      "Epoch : 1 [12800/51000 (25%)]\tLoss: 0.125298\t Accuracy:93.049%\n",
      "Epoch : 1 [14400/51000 (28%)]\tLoss: 0.358953\t Accuracy:93.050%\n",
      "Epoch : 1 [16000/51000 (31%)]\tLoss: 0.083932\t Accuracy:93.182%\n",
      "Epoch : 1 [17600/51000 (35%)]\tLoss: 0.211713\t Accuracy:93.177%\n",
      "Epoch : 1 [19200/51000 (38%)]\tLoss: 0.374506\t Accuracy:93.261%\n",
      "Epoch : 1 [20800/51000 (41%)]\tLoss: 0.170384\t Accuracy:93.256%\n",
      "Epoch : 1 [22400/51000 (44%)]\tLoss: 0.166590\t Accuracy:93.282%\n",
      "Epoch : 1 [24000/51000 (47%)]\tLoss: 0.040443\t Accuracy:93.330%\n",
      "Epoch : 1 [25600/51000 (50%)]\tLoss: 0.184703\t Accuracy:93.360%\n",
      "Epoch : 1 [27200/51000 (53%)]\tLoss: 0.399076\t Accuracy:93.309%\n",
      "Epoch : 1 [28800/51000 (56%)]\tLoss: 0.426866\t Accuracy:93.341%\n",
      "Epoch : 1 [30400/51000 (60%)]\tLoss: 0.647821\t Accuracy:93.310%\n",
      "Epoch : 1 [32000/51000 (63%)]\tLoss: 0.189272\t Accuracy:93.300%\n",
      "Epoch : 1 [33600/51000 (66%)]\tLoss: 0.163457\t Accuracy:93.343%\n",
      "Epoch : 1 [35200/51000 (69%)]\tLoss: 0.527667\t Accuracy:93.361%\n",
      "Epoch : 1 [36800/51000 (72%)]\tLoss: 0.116010\t Accuracy:93.381%\n",
      "Epoch : 1 [38400/51000 (75%)]\tLoss: 0.615657\t Accuracy:93.414%\n",
      "Epoch : 1 [40000/51000 (78%)]\tLoss: 0.035089\t Accuracy:93.483%\n",
      "Epoch : 1 [41600/51000 (82%)]\tLoss: 0.167406\t Accuracy:93.531%\n",
      "Epoch : 1 [43200/51000 (85%)]\tLoss: 0.331047\t Accuracy:93.570%\n",
      "Epoch : 1 [44800/51000 (88%)]\tLoss: 0.110243\t Accuracy:93.607%\n",
      "Epoch : 1 [46400/51000 (91%)]\tLoss: 0.146270\t Accuracy:93.636%\n",
      "Epoch : 1 [48000/51000 (94%)]\tLoss: 0.066249\t Accuracy:93.713%\n",
      "Epoch : 1 [49600/51000 (97%)]\tLoss: 0.209030\t Accuracy:93.704%\n",
      "Epoch : 2 [0/51000 (0%)]\tLoss: 0.221366\t Accuracy:93.750%\n",
      "Epoch : 2 [1600/51000 (3%)]\tLoss: 0.338529\t Accuracy:93.627%\n",
      "Epoch : 2 [3200/51000 (6%)]\tLoss: 0.132698\t Accuracy:94.493%\n",
      "Epoch : 2 [4800/51000 (9%)]\tLoss: 0.140445\t Accuracy:94.681%\n",
      "Epoch : 2 [6400/51000 (13%)]\tLoss: 0.192901\t Accuracy:94.776%\n",
      "Epoch : 2 [8000/51000 (16%)]\tLoss: 0.449569\t Accuracy:94.796%\n",
      "Epoch : 2 [9600/51000 (19%)]\tLoss: 0.134782\t Accuracy:94.767%\n",
      "Epoch : 2 [11200/51000 (22%)]\tLoss: 0.174639\t Accuracy:94.631%\n",
      "Epoch : 2 [12800/51000 (25%)]\tLoss: 0.114156\t Accuracy:94.576%\n",
      "Epoch : 2 [14400/51000 (28%)]\tLoss: 0.203334\t Accuracy:94.512%\n",
      "Epoch : 2 [16000/51000 (31%)]\tLoss: 0.067431\t Accuracy:94.629%\n",
      "Epoch : 2 [17600/51000 (35%)]\tLoss: 0.215983\t Accuracy:94.635%\n",
      "Epoch : 2 [19200/51000 (38%)]\tLoss: 0.157542\t Accuracy:94.696%\n",
      "Epoch : 2 [20800/51000 (41%)]\tLoss: 0.178267\t Accuracy:94.672%\n",
      "Epoch : 2 [22400/51000 (44%)]\tLoss: 0.205445\t Accuracy:94.691%\n",
      "Epoch : 2 [24000/51000 (47%)]\tLoss: 0.173857\t Accuracy:94.682%\n",
      "Epoch : 2 [25600/51000 (50%)]\tLoss: 0.308945\t Accuracy:94.682%\n",
      "Epoch : 2 [27200/51000 (53%)]\tLoss: 0.051884\t Accuracy:94.620%\n",
      "Epoch : 2 [28800/51000 (56%)]\tLoss: 0.059778\t Accuracy:94.593%\n",
      "Epoch : 2 [30400/51000 (60%)]\tLoss: 0.676577\t Accuracy:94.608%\n",
      "Epoch : 2 [32000/51000 (63%)]\tLoss: 0.256818\t Accuracy:94.568%\n",
      "Epoch : 2 [33600/51000 (66%)]\tLoss: 0.262302\t Accuracy:94.562%\n",
      "Epoch : 2 [35200/51000 (69%)]\tLoss: 0.258916\t Accuracy:94.562%\n",
      "Epoch : 2 [36800/51000 (72%)]\tLoss: 0.050848\t Accuracy:94.570%\n",
      "Epoch : 2 [38400/51000 (75%)]\tLoss: 0.149974\t Accuracy:94.577%\n",
      "Epoch : 2 [40000/51000 (78%)]\tLoss: 0.097712\t Accuracy:94.594%\n",
      "Epoch : 2 [41600/51000 (82%)]\tLoss: 0.031107\t Accuracy:94.603%\n",
      "Epoch : 2 [43200/51000 (85%)]\tLoss: 0.236123\t Accuracy:94.578%\n",
      "Epoch : 2 [44800/51000 (88%)]\tLoss: 0.118259\t Accuracy:94.602%\n",
      "Epoch : 2 [46400/51000 (91%)]\tLoss: 0.497750\t Accuracy:94.633%\n",
      "Epoch : 2 [48000/51000 (94%)]\tLoss: 0.054249\t Accuracy:94.649%\n",
      "Epoch : 2 [49600/51000 (97%)]\tLoss: 0.275001\t Accuracy:94.618%\n",
      "Epoch : 3 [0/51000 (0%)]\tLoss: 0.156249\t Accuracy:93.750%\n",
      "Epoch : 3 [1600/51000 (3%)]\tLoss: 0.079809\t Accuracy:94.424%\n",
      "Epoch : 3 [3200/51000 (6%)]\tLoss: 0.035656\t Accuracy:95.235%\n",
      "Epoch : 3 [4800/51000 (9%)]\tLoss: 0.015697\t Accuracy:95.219%\n",
      "Epoch : 3 [6400/51000 (13%)]\tLoss: 0.412176\t Accuracy:95.243%\n",
      "Epoch : 3 [8000/51000 (16%)]\tLoss: 0.102215\t Accuracy:95.132%\n",
      "Epoch : 3 [9600/51000 (19%)]\tLoss: 0.098896\t Accuracy:95.100%\n",
      "Epoch : 3 [11200/51000 (22%)]\tLoss: 0.024975\t Accuracy:95.112%\n",
      "Epoch : 3 [12800/51000 (25%)]\tLoss: 0.078698\t Accuracy:94.966%\n",
      "Epoch : 3 [14400/51000 (28%)]\tLoss: 0.072226\t Accuracy:94.997%\n",
      "Epoch : 3 [16000/51000 (31%)]\tLoss: 0.113658\t Accuracy:95.004%\n",
      "Epoch : 3 [17600/51000 (35%)]\tLoss: 0.153677\t Accuracy:94.958%\n",
      "Epoch : 3 [19200/51000 (38%)]\tLoss: 0.113442\t Accuracy:95.076%\n",
      "Epoch : 3 [20800/51000 (41%)]\tLoss: 0.200271\t Accuracy:95.070%\n",
      "Epoch : 3 [22400/51000 (44%)]\tLoss: 0.218597\t Accuracy:95.145%\n",
      "Epoch : 3 [24000/51000 (47%)]\tLoss: 0.216602\t Accuracy:95.177%\n",
      "Epoch : 3 [25600/51000 (50%)]\tLoss: 0.211122\t Accuracy:95.174%\n",
      "Epoch : 3 [27200/51000 (53%)]\tLoss: 0.147754\t Accuracy:95.171%\n",
      "Epoch : 3 [28800/51000 (56%)]\tLoss: 0.161590\t Accuracy:95.137%\n",
      "Epoch : 3 [30400/51000 (60%)]\tLoss: 0.109657\t Accuracy:95.183%\n",
      "Epoch : 3 [32000/51000 (63%)]\tLoss: 0.320940\t Accuracy:95.152%\n",
      "Epoch : 3 [33600/51000 (66%)]\tLoss: 0.777892\t Accuracy:95.139%\n",
      "Epoch : 3 [35200/51000 (69%)]\tLoss: 0.241669\t Accuracy:95.124%\n",
      "Epoch : 3 [36800/51000 (72%)]\tLoss: 0.064815\t Accuracy:95.121%\n",
      "Epoch : 3 [38400/51000 (75%)]\tLoss: 0.492796\t Accuracy:95.126%\n",
      "Epoch : 3 [40000/51000 (78%)]\tLoss: 0.121015\t Accuracy:95.149%\n",
      "Epoch : 3 [41600/51000 (82%)]\tLoss: 0.079339\t Accuracy:95.167%\n",
      "Epoch : 3 [43200/51000 (85%)]\tLoss: 0.101111\t Accuracy:95.198%\n",
      "Epoch : 3 [44800/51000 (88%)]\tLoss: 0.072753\t Accuracy:95.191%\n",
      "Epoch : 3 [46400/51000 (91%)]\tLoss: 0.152280\t Accuracy:95.204%\n",
      "Epoch : 3 [48000/51000 (94%)]\tLoss: 0.068115\t Accuracy:95.197%\n",
      "Epoch : 3 [49600/51000 (97%)]\tLoss: 0.117590\t Accuracy:95.211%\n",
      "Epoch : 4 [0/51000 (0%)]\tLoss: 0.092783\t Accuracy:96.875%\n",
      "Epoch : 4 [1600/51000 (3%)]\tLoss: 0.789477\t Accuracy:95.221%\n",
      "Epoch : 4 [3200/51000 (6%)]\tLoss: 0.092445\t Accuracy:95.266%\n",
      "Epoch : 4 [4800/51000 (9%)]\tLoss: 0.087838\t Accuracy:95.157%\n"
     ]
    },
    {
     "name": "stdout",
     "output_type": "stream",
     "text": [
      "Epoch : 4 [6400/51000 (13%)]\tLoss: 0.393897\t Accuracy:95.507%\n",
      "Epoch : 4 [8000/51000 (16%)]\tLoss: 0.050384\t Accuracy:95.630%\n",
      "Epoch : 4 [9600/51000 (19%)]\tLoss: 0.060093\t Accuracy:95.505%\n",
      "Epoch : 4 [11200/51000 (22%)]\tLoss: 0.065229\t Accuracy:95.450%\n",
      "Epoch : 4 [12800/51000 (25%)]\tLoss: 0.203727\t Accuracy:95.332%\n",
      "Epoch : 4 [14400/51000 (28%)]\tLoss: 0.112233\t Accuracy:95.288%\n",
      "Epoch : 4 [16000/51000 (31%)]\tLoss: 0.256157\t Accuracy:95.328%\n",
      "Epoch : 4 [17600/51000 (35%)]\tLoss: 0.057604\t Accuracy:95.338%\n",
      "Epoch : 4 [19200/51000 (38%)]\tLoss: 0.093119\t Accuracy:95.440%\n",
      "Epoch : 4 [20800/51000 (41%)]\tLoss: 0.290356\t Accuracy:95.445%\n",
      "Epoch : 4 [22400/51000 (44%)]\tLoss: 0.119448\t Accuracy:95.466%\n",
      "Epoch : 4 [24000/51000 (47%)]\tLoss: 0.182175\t Accuracy:95.460%\n",
      "Epoch : 4 [25600/51000 (50%)]\tLoss: 0.117912\t Accuracy:95.455%\n",
      "Epoch : 4 [27200/51000 (53%)]\tLoss: 0.150832\t Accuracy:95.450%\n",
      "Epoch : 4 [28800/51000 (56%)]\tLoss: 0.156462\t Accuracy:95.425%\n",
      "Epoch : 4 [30400/51000 (60%)]\tLoss: 0.698852\t Accuracy:95.452%\n",
      "Epoch : 4 [32000/51000 (63%)]\tLoss: 0.110830\t Accuracy:95.458%\n",
      "Epoch : 4 [33600/51000 (66%)]\tLoss: 0.413290\t Accuracy:95.504%\n",
      "Epoch : 4 [35200/51000 (69%)]\tLoss: 0.182447\t Accuracy:95.498%\n",
      "Epoch : 4 [36800/51000 (72%)]\tLoss: 0.052106\t Accuracy:95.542%\n",
      "Epoch : 4 [38400/51000 (75%)]\tLoss: 0.235294\t Accuracy:95.571%\n",
      "Epoch : 4 [40000/51000 (78%)]\tLoss: 0.022628\t Accuracy:95.591%\n",
      "Epoch : 4 [41600/51000 (82%)]\tLoss: 0.058443\t Accuracy:95.592%\n",
      "Epoch : 4 [43200/51000 (85%)]\tLoss: 0.204822\t Accuracy:95.594%\n",
      "Epoch : 4 [44800/51000 (88%)]\tLoss: 0.035211\t Accuracy:95.586%\n",
      "Epoch : 4 [46400/51000 (91%)]\tLoss: 0.192621\t Accuracy:95.591%\n",
      "Epoch : 4 [48000/51000 (94%)]\tLoss: 0.032625\t Accuracy:95.615%\n",
      "Epoch : 4 [49600/51000 (97%)]\tLoss: 0.120813\t Accuracy:95.612%\n"
     ]
    }
   ],
   "source": [
    "fit(cnn,train_loader)"
   ]
  },
  {
   "cell_type": "code",
   "execution_count": 15,
   "metadata": {
    "_uuid": "890dfc8d29ac70df919807b275b38112ca9297ab"
   },
   "outputs": [
    {
     "name": "stdout",
     "output_type": "stream",
     "text": [
      "Test accuracy:0.953% \n"
     ]
    }
   ],
   "source": [
    "evaluate(cnn)"
   ]
  },
  {
   "cell_type": "code",
   "execution_count": null,
   "metadata": {
    "_uuid": "3703af54a320fd81bfa426be17655a3cebec5ac4"
   },
   "outputs": [],
   "source": []
  },
  {
   "cell_type": "code",
   "execution_count": null,
   "metadata": {
    "_uuid": "071e27e26196cbc58a8aee71324ad4b02222c8d0"
   },
   "outputs": [],
   "source": []
  }
 ],
 "metadata": {
  "kernelspec": {
   "display_name": "Python 3",
   "language": "python",
   "name": "python3"
  },
  "language_info": {
   "codemirror_mode": {
    "name": "ipython",
    "version": 3
   },
   "file_extension": ".py",
   "mimetype": "text/x-python",
   "name": "python",
   "nbconvert_exporter": "python",
   "pygments_lexer": "ipython3",
   "version": "3.6.5"
  }
 },
 "nbformat": 4,
 "nbformat_minor": 1
}
